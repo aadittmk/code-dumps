{
 "cells": [
  {
   "cell_type": "code",
   "execution_count": 17,
   "metadata": {},
   "outputs": [],
   "source": [
    "from typing import List\n",
    "\n"
   ]
  },
  {
   "cell_type": "code",
   "execution_count": 18,
   "metadata": {},
   "outputs": [],
   "source": [
    "class Solution:\n",
    "    def fizzBuzz(self, n: int) -> List[str]:\n",
    "        output = []\n",
    "        for number in range(1, n+1):\n",
    "            if number % 15 == 0:\n",
    "                output.append(\"FizzBuzz\")\n",
    "            elif number % 5 == 0:\n",
    "                output.append(\"Buzz\")\n",
    "            elif number % 3 == 0:\n",
    "                output.append(\"Fizz\")\n",
    "            else:\n",
    "                output.append(str(number))\n",
    "        return output"
   ]
  },
  {
   "cell_type": "code",
   "execution_count": 19,
   "metadata": {},
   "outputs": [
    {
     "data": {
      "text/plain": [
       "['1',\n",
       " '2',\n",
       " 'Fizz',\n",
       " '4',\n",
       " 'Buzz',\n",
       " 'Fizz',\n",
       " '7',\n",
       " '8',\n",
       " 'Fizz',\n",
       " 'Buzz',\n",
       " '11',\n",
       " 'Fizz',\n",
       " '13',\n",
       " '14',\n",
       " 'FizzBuzz']"
      ]
     },
     "execution_count": 19,
     "metadata": {},
     "output_type": "execute_result"
    }
   ],
   "source": [
    "soln = Solution()\n",
    "soln.fizzBuzz(15)"
   ]
  },
  {
   "cell_type": "code",
   "execution_count": 23,
   "metadata": {},
   "outputs": [],
   "source": [
    "class Solution:\n",
    "    def fizzBuzz(self, n: int) -> List[str]:\n",
    "        output = []\n",
    "        for number in range(1, n+1):\n",
    "            _temp_string = \"\"\n",
    "            if number % 3 == 0:\n",
    "                _temp_string += \"Fizz\"\n",
    "            if number % 5 == 0:\n",
    "                _temp_string += \"Buzz\"\n",
    "            if not _temp_string:\n",
    "                _temp_string += str(number)\n",
    "            output.append(_temp_string)\n",
    "        return output"
   ]
  },
  {
   "cell_type": "code",
   "execution_count": 24,
   "metadata": {},
   "outputs": [
    {
     "data": {
      "text/plain": [
       "['1',\n",
       " '2',\n",
       " 'Fizz',\n",
       " '4',\n",
       " 'Buzz',\n",
       " 'Fizz',\n",
       " '7',\n",
       " '8',\n",
       " 'Fizz',\n",
       " 'Buzz',\n",
       " '11',\n",
       " 'Fizz',\n",
       " '13',\n",
       " '14',\n",
       " 'FizzBuzz']"
      ]
     },
     "execution_count": 24,
     "metadata": {},
     "output_type": "execute_result"
    }
   ],
   "source": [
    "soln = Solution()\n",
    "soln.fizzBuzz(15)"
   ]
  },
  {
   "cell_type": "code",
   "execution_count": 27,
   "metadata": {},
   "outputs": [],
   "source": [
    "class Solution:\n",
    "    def fizzBuzz(self, n: int) -> List[str]:\n",
    "        hashmap = {\n",
    "            3: \"Fizz\",\n",
    "            5: \"Buzz\"\n",
    "        }\n",
    "        output = []\n",
    "        for number in range(1, n+1):\n",
    "            _temp_string = \"\"\n",
    "            for key in hashmap.keys():\n",
    "                if number % key == 0:\n",
    "                    _temp_string += hashmap[key]\n",
    "            if not _temp_string:\n",
    "                _temp_string += str(number)\n",
    "            output.append(_temp_string)\n",
    "        return output"
   ]
  },
  {
   "cell_type": "code",
   "execution_count": 28,
   "metadata": {},
   "outputs": [
    {
     "data": {
      "text/plain": [
       "['1',\n",
       " '2',\n",
       " 'Fizz',\n",
       " '4',\n",
       " 'Buzz',\n",
       " 'Fizz',\n",
       " '7',\n",
       " '8',\n",
       " 'Fizz',\n",
       " 'Buzz',\n",
       " '11',\n",
       " 'Fizz',\n",
       " '13',\n",
       " '14',\n",
       " 'FizzBuzz']"
      ]
     },
     "execution_count": 28,
     "metadata": {},
     "output_type": "execute_result"
    }
   ],
   "source": [
    "soln = Solution()\n",
    "soln.fizzBuzz(15)"
   ]
  },
  {
   "cell_type": "code",
   "execution_count": null,
   "metadata": {},
   "outputs": [],
   "source": []
  }
 ],
 "metadata": {
  "kernelspec": {
   "display_name": "Python 3",
   "language": "python",
   "name": "python3"
  },
  "language_info": {
   "codemirror_mode": {
    "name": "ipython",
    "version": 3
   },
   "file_extension": ".py",
   "mimetype": "text/x-python",
   "name": "python",
   "nbconvert_exporter": "python",
   "pygments_lexer": "ipython3",
   "version": "3.8.5"
  }
 },
 "nbformat": 4,
 "nbformat_minor": 4
}
